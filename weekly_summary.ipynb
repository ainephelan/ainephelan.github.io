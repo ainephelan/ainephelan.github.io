{
 "cells": [
  {
   "cell_type": "code",
   "execution_count": 4,
   "metadata": {},
   "outputs": [],
   "source": [
    "from afterpay_gdp_interfaces import RedshiftHook\n",
    "import datetime\n",
    "import json\n",
    "from enum import Enum  \n",
    "import pandas as pd\n",
    "import json\n",
    "\n",
    "class Metric(Enum):\n",
    "    OrderCnt = 'num_of_order'\n",
    "    AOV = 'aov'\n",
    "    GMV = 'gmv'\n",
    "    NewCustomer = 'new_cus'\n",
    "    \n",
    "class Period(Enum):\n",
    "    Week = '7d'\n",
    "    Month = '30d'\n",
    "    Three_month = '90d'\n",
    "    Year = '12m'\n",
    "    \n",
    "#change to your okta_username\n",
    "r = RedshiftHook(cluster='vega', okta_username='zhou.fang@afterpay.com')\n",
    "conn = r.get_conn() \n",
    "\n",
    "def get_ratio(current_series, prev_series):\n",
    "    return 'na' if len(prev_series) == 0 \\\n",
    "                else (current_series.values[0] - prev_series.values[0])/prev_series.values[0] * 100\n",
    "\n",
    "def get_prev_cob(cob_str, period=Period.Week):\n",
    "    if period == Period.Month:\n",
    "        return \"dateadd(day, -30, '{}')\".format(cob_str)\n",
    "    elif period == Period.Three_month:\n",
    "        return \"dateadd(day, -90, '{}')\".format(cob_str)\n",
    "    elif period == Period.Year:\n",
    "        return \"dateadd(year, -1, '{}')\".format(cob_str)\n",
    "    return \"dateadd(day, -7, '{}')\".format(cob_str)\n",
    "        \n",
    "def get_summary(merchant_id, start_dt, period=Period.Week):\n",
    "    merchant_df = r.get_pandas_df('''select cast(t.cob_date as varchar) as cob,\n",
    "                                     t.* from sandbox_analytics_us.cdp_merchant_daily t\n",
    "                                     where merchant_id={m_id} and (cob_date = '{start_dt}' or cob_date = {prev_dt})\n",
    "                                  '''.format(m_id = merchant_id, start_dt = start_dt, prev_dt = get_prev_cob(start_dt, period))) \n",
    "\n",
    "    merchant_df = merchant_df[['cob', 'num_of_order_' + period.value, 'aov_' + period.value \\\n",
    "                               , 'gmv_' + period.value, 'new_cus_' + period.value]] \\\n",
    "                  .rename(columns = { \\\n",
    "                        'num_of_order_' + period.value: 'num_of_order', \\\n",
    "                        'aov_' + period.value: 'aov', \\\n",
    "                        'gmv_' + period.value: 'gmv', \\\n",
    "                        'new_cus_' + period.value: 'new_cus' })\n",
    "\n",
    "    current = merchant_df[merchant_df['cob'] == start_dt]\n",
    "    prev = merchant_df[merchant_df['cob'] != start_dt]\n",
    "\n",
    "    final = {\n",
    "                'order': \n",
    "                         {'amount': current['num_of_order'].values[0], \n",
    "                          'ratio': get_ratio(current['num_of_order'], prev['num_of_order'])} ,\n",
    "                          \n",
    "                'newCustomer': \n",
    "                         {'amount': current['new_cus'].values[0], \n",
    "                          'ratio': get_ratio(current['new_cus'], prev['new_cus'])} ,\n",
    "        \n",
    "                'averageOrderValue': \n",
    "                         {'amount': current['aov'].values[0], \n",
    "                          'ratio': get_ratio(current['aov'], prev['aov'])} ,\n",
    "        \n",
    "                'totalRevenue': \n",
    "                         {'amount': current['gmv'].values[0], \n",
    "                          'ratio': get_ratio(current['gmv'], prev['gmv'])}\n",
    "            }\n",
    "    \n",
    "    return final #json.dumps(final)"
   ]
  },
  {
   "cell_type": "code",
   "execution_count": 5,
   "metadata": {},
   "outputs": [
    {
     "data": {
      "text/plain": [
       "{'order': {'amount': 7934.0, 'ratio': 15.420424789060228},\n",
       " 'newCustomer': {'amount': 2700.0, 'ratio': 13.445378151260504},\n",
       " 'averageOrderValue': {'amount': 182.0728, 'ratio': -0.053521347881623174},\n",
       " 'totalRevenue': {'amount': 1444566.22, 'ratio': 15.358684658559648}}"
      ]
     },
     "execution_count": 5,
     "metadata": {},
     "output_type": "execute_result"
    }
   ],
   "source": [
    "get_summary(42267, '2021-03-19')"
   ]
  },
  {
   "cell_type": "code",
   "execution_count": null,
   "metadata": {},
   "outputs": [],
   "source": []
  }
 ],
 "metadata": {
  "kernelspec": {
   "display_name": "Python3-Redshift",
   "language": "python",
   "name": "redshift_kernel"
  },
  "language_info": {
   "codemirror_mode": {
    "name": "ipython",
    "version": 3
   },
   "file_extension": ".py",
   "mimetype": "text/x-python",
   "name": "python",
   "nbconvert_exporter": "python",
   "pygments_lexer": "ipython3",
   "version": "3.7.3"
  }
 },
 "nbformat": 4,
 "nbformat_minor": 4
}
